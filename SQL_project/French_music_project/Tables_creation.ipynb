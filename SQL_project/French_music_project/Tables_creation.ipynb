{
    "cells": [
        {
            "attachments": {},
            "cell_type": "markdown",
            "metadata": {},
            "source": [
                "Create Artist Table"
            ]
        },
        {
            "cell_type": "code",
            "execution_count": null,
            "metadata": {},
            "outputs": [],
            "source": [
                "CREATE TABLE dbdemosession0.dbo.Artist (\n",
                "\tID int NOT NULL,\n",
                "\tName varchar(100) COLLATE SQL_Latin1_General_CP1_CI_AS NOT NULL,\n",
                "\tCONSTRAINT Artist_PK PRIMARY KEY (ID)\n",
                ");"
            ]
        },
        {
            "attachments": {},
            "cell_type": "markdown",
            "metadata": {},
            "source": [
                "Create Genre Table"
            ]
        },
        {
            "cell_type": "code",
            "execution_count": null,
            "metadata": {},
            "outputs": [],
            "source": [
                "CREATE TABLE dbdemosession0.dbo.Genres (\n",
                "\tID int NOT NULL,\n",
                "\tName varchar(100) COLLATE SQL_Latin1_General_CP1_CI_AS NOT NULL,\n",
                "\tCONSTRAINT Genres_PK PRIMARY KEY (ID)\n",
                ");"
            ]
        },
        {
            "attachments": {},
            "cell_type": "markdown",
            "metadata": {},
            "source": [
                "Create Album table"
            ]
        },
        {
            "cell_type": "code",
            "execution_count": null,
            "metadata": {},
            "outputs": [],
            "source": [
                "CREATE TABLE dbdemosession0.dbo.Album (\n",
                "\tID int NOT NULL,\n",
                "\tName varchar(100) COLLATE SQL_Latin1_General_CP1_CI_AS NOT NULL,\n",
                "\tArtist_id int NOT NULL,\n",
                "\tCONSTRAINT Album_PK PRIMARY KEY (ID)\n",
                ");"
            ]
        },
        {
            "attachments": {},
            "cell_type": "markdown",
            "metadata": {},
            "source": [
                "Create Album foreign key with Artist table"
            ]
        },
        {
            "cell_type": "code",
            "execution_count": null,
            "metadata": {},
            "outputs": [],
            "source": [
                "ALTER TABLE dbdemosession0.dbo.Album ADD CONSTRAINT Album_FK FOREIGN KEY (Artist_id) REFERENCES dbdemosession0.dbo.Artist(ID);"
            ]
        },
        {
            "attachments": {},
            "cell_type": "markdown",
            "metadata": {},
            "source": [
                "Create Album sales per year table"
            ]
        },
        {
            "cell_type": "code",
            "execution_count": null,
            "metadata": {},
            "outputs": [],
            "source": [
                "CREATE TABLE dbdemosession0.dbo.Album_sales_per_year (\n",
                "\tAlbum_id int NOT NULL,\n",
                "\t[Year] int NOT NULL,\n",
                "\tSales int NOT NULL,\n",
                "\tCONSTRAINT Album_sales_per_year_PK PRIMARY KEY (Album_id,[Year])\n",
                ");"
            ]
        },
        {
            "attachments": {},
            "cell_type": "markdown",
            "metadata": {},
            "source": [
                "Create Album sales per year Foreign key with Album table"
            ]
        },
        {
            "cell_type": "code",
            "execution_count": null,
            "metadata": {},
            "outputs": [],
            "source": [
                "ALTER TABLE dbdemosession0.dbo.Album_sales_per_year ADD CONSTRAINT Album_sales_per_year_FK FOREIGN KEY (Album_id) REFERENCES dbdemosession0.dbo.Album(ID);"
            ]
        },
        {
            "attachments": {},
            "cell_type": "markdown",
            "metadata": {},
            "source": [
                "Create Tracks table"
            ]
        },
        {
            "cell_type": "code",
            "execution_count": null,
            "metadata": {},
            "outputs": [],
            "source": [
                "CREATE TABLE dbdemosession0.dbo.Tracks (\n",
                "\tAlbum_id int NOT NULL,\n",
                "\tTrack_num int NOT NULL,\n",
                "\tTitle varchar(100) COLLATE SQL_Latin1_General_CP1_CI_AS NOT NULL,\n",
                "\tGenre_id int NOT NULL,\n",
                "\tCONSTRAINT Tracks_PK PRIMARY KEY (Album_id,Track_num)\n",
                ");"
            ]
        },
        {
            "attachments": {},
            "cell_type": "markdown",
            "metadata": {},
            "source": [
                "Create Tracks foreign keys with Album and Genre tables"
            ]
        },
        {
            "cell_type": "code",
            "execution_count": null,
            "metadata": {},
            "outputs": [],
            "source": [
                "ALTER TABLE dbdemosession0.dbo.Tracks ADD CONSTRAINT Tracks_FK FOREIGN KEY (Album_id) REFERENCES dbdemosession0.dbo.Album(ID);\n",
                "ALTER TABLE dbdemosession0.dbo.Tracks ADD CONSTRAINT Tracks_FK_genres FOREIGN KEY (Genre_id) REFERENCES dbdemosession0.dbo.Genres(ID);"
            ]
        }
    ],
    "metadata": {
        "kernelspec": {
            "display_name": "SQL",
            "language": "sql",
            "name": "SQL"
        },
        "language_info": {
            "name": "sql",
            "version": ""
        }
    },
    "nbformat": 4,
    "nbformat_minor": 2
}

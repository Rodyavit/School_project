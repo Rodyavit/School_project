{
    "cells": [
        {
            "attachments": {},
            "cell_type": "markdown",
            "metadata": {
                "azdata_cell_guid": "ce5bddd3-517c-48a9-b759-46074ac6179d"
            },
            "source": [
                "### Which album has the greatest number of tracks?\n",
                "\n",
                "_1) Create a view to select the number of track per album_"
            ]
        },
        {
            "cell_type": "code",
            "execution_count": 2,
            "metadata": {
                "azdata_cell_guid": "378be024-6632-48d1-aa94-b732a9ef1fe5",
                "language": "sql",
                "tags": []
            },
            "outputs": [
                {
                    "data": {
                        "text/html": [
                            "Commands completed successfully."
                        ]
                    },
                    "metadata": {},
                    "output_type": "display_data"
                },
                {
                    "data": {
                        "text/html": [
                            "Total execution time: 00:00:00.118"
                        ]
                    },
                    "metadata": {},
                    "output_type": "display_data"
                }
            ],
            "source": [
                "CREATE VIEW count_tracks\n",
                "AS\n",
                "SELECT count(Track_num) as track_count\n",
                "FROM Tracks\n",
                "INNER JOIN Album ON Album.id=Tracks.Album_id\n",
                "GROUP BY ID"
            ]
        },
        {
            "attachments": {},
            "cell_type": "markdown",
            "metadata": {
                "azdata_cell_guid": "3d393061-13f2-4fde-9e1a-b6687e2b391b"
            },
            "source": [
                "_2) Obtain the name of the album with the greatest number of tracks thanks to the view_ <span style=\"color: rgb(220, 220, 170); font-family: Consolas, &quot;Courier New&quot;, monospace; font-size: 12px; white-space: pre;\">count_tracks</span>"
            ]
        },
        {
            "cell_type": "code",
            "execution_count": 2,
            "metadata": {
                "azdata_cell_guid": "963c34ec-210c-43b6-b1ae-0b2b5b08d9a6",
                "language": "sql"
            },
            "outputs": [
                {
                    "data": {
                        "text/html": [
                            "(1 row affected)"
                        ]
                    },
                    "metadata": {},
                    "output_type": "display_data"
                },
                {
                    "data": {
                        "text/html": [
                            "Total execution time: 00:00:00.112"
                        ]
                    },
                    "metadata": {},
                    "output_type": "display_data"
                },
                {
                    "data": {
                        "application/vnd.dataresource+json": {
                            "data": [
                                {
                                    "0": "Trinity"
                                }
                            ],
                            "schema": {
                                "fields": [
                                    {
                                        "name": "Name"
                                    }
                                ]
                            }
                        },
                        "text/html": [
                            "<table>\n",
                            "<tr><th>Name</th></tr>\n",
                            "<tr><td>Trinity</td></tr>\n",
                            "</table>"
                        ]
                    },
                    "execution_count": 2,
                    "metadata": {},
                    "output_type": "execute_result"
                }
            ],
            "source": [
                "SELECT Name \n",
                "FROM Album\n",
                "INNER JOIN Tracks ON Album.ID=Tracks.Album_id\n",
                "GROUP BY Name\n",
                "HAVING COUNT(Track_num)=(SELECT MAX(track_count)\n",
                "FROM count_tracks)"
            ]
        },
        {
            "attachments": {},
            "cell_type": "markdown",
            "metadata": {},
            "source": [
                "### Which albums contain only one genre of music and which type of style?\n",
                "\n",
                "_1) Create a view to select the album which contain only one genre_"
            ]
        },
        {
            "cell_type": "code",
            "execution_count": null,
            "metadata": {},
            "outputs": [],
            "source": [
                "CREATE VIEW albums_genre_unique_id\n",
                "AS\n",
                "SELECT Album.ID\n",
                "FROM Album\n",
                "INNER JOIN Tracks ON Tracks.Album_id=Album.ID\n",
                "INNER JOIN Genres ON Genres.ID=Tracks.Genre_id\n",
                "GROUP BY Album.ID\n",
                "HAVING count(distinct Genres.ID)=1 "
            ]
        },
        {
            "attachments": {},
            "cell_type": "markdown",
            "metadata": {},
            "source": [
                "_2) Obtain the name of the genre of each album thanks to the view_ <span style=\"color: rgb(220, 220, 170); font-family: Consolas, &quot;Courier New&quot;, monospace; font-size: 12px; white-space: pre;\">albums_genre_unique_id</span>"
            ]
        },
        {
            "cell_type": "code",
            "execution_count": null,
            "metadata": {},
            "outputs": [],
            "source": [
                "SELECT Album.Name,Genres.Name\n",
                "FROM Album\n",
                "INNER JOIN Tracks ON Tracks.Album_id=Album.ID\n",
                "INNER JOIN Genres ON Genres.ID=Tracks.Genre_id\n",
                "WHERE Album.ID IN(\n",
                "SELECT ID \n",
                "FROM albums_genre_unique_id)\n",
                "Group By Album.Name, Genres.Name"
            ]
        },
        {
            "attachments": {},
            "cell_type": "markdown",
            "metadata": {},
            "source": [
                "### The top 5 of years selling per Artist"
            ]
        },
        {
            "cell_type": "code",
            "execution_count": null,
            "metadata": {},
            "outputs": [],
            "source": [
                "SELECT top 5 Artist.Name,Album_sales_per_year.Year,SUM(Sales) as SALES\n",
                "FROM Artist \n",
                "INNER JOIN Album ON Album.Artist_id=Artist.ID\n",
                "INNER JOIN Album_sales_per_year ON Album.ID=Album_sales_per_year.Album_id\n",
                "GROUP BY Artist.Name,Album_sales_per_year.Year\n",
                "ORDER BY SALES DESC "
            ]
        },
        {
            "attachments": {},
            "cell_type": "markdown",
            "metadata": {},
            "source": [
                "### Which artist have the greatest number of different styles?\n",
                "\n",
                "_1) Create a view to select the number of distinct style per album_"
            ]
        },
        {
            "cell_type": "code",
            "execution_count": null,
            "metadata": {},
            "outputs": [],
            "source": [
                "CREATE VIEW distinct_genres \n",
                "AS\n",
                "SELECT count(distinct genre_id) as genre_distinct\n",
                "FROM Tracks\n",
                "INNER JOIN Album ON Tracks.Album_id=Album.ID\n",
                "INNER JOIN Artist ON Artist.ID=Album.Artist_id\n",
                "GROUP BY Artist.ID"
            ]
        },
        {
            "attachments": {},
            "cell_type": "markdown",
            "metadata": {},
            "source": [
                "_2) Obtain the name of the artist with the greatest number of different styles thanks to the view distinct\\_genres_"
            ]
        },
        {
            "cell_type": "code",
            "execution_count": null,
            "metadata": {},
            "outputs": [],
            "source": [
                "SELECT Artist.Name\n",
                "FROM Artist\n",
                "INNER JOIN Album ON Artist.ID=Album.Artist_id\n",
                "INNER JOIN Tracks ON Tracks.Album_id=Album.ID\n",
                "GROUP BY Artist.Name\n",
                "HAVING count(distinct genre_id)=(SELECT MAX(genre_distinct)FROM distinct_genres)"
            ]
        }
    ],
    "metadata": {
        "kernelspec": {
            "display_name": "SQL",
            "language": "sql",
            "name": "SQL"
        },
        "language_info": {
            "name": "sql",
            "version": ""
        }
    },
    "nbformat": 4,
    "nbformat_minor": 2
}
